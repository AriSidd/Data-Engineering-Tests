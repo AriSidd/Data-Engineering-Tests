{
 "cells": [
  {
   "cell_type": "markdown",
   "id": "9582df2a-49c0-44cd-8ab5-e883f8163125",
   "metadata": {},
   "source": [
    "# Extract for our supposed ETL"
   ]
  },
  {
   "cell_type": "code",
   "execution_count": 9,
   "id": "702fe9ce-72c6-4315-8172-0f58c426c769",
   "metadata": {},
   "outputs": [],
   "source": [
    "import requests\n",
    "from pprint import pprint\n",
    "\n",
    "def get_request(code):\n",
    "    URL = \"https://api.company-information.service.gov.uk/company/{}\".format(code)\n",
    "    headers = {'Authorization': \"0365de33-ebf5-43d0-b11d-16e9cb202611\"}\n",
    "    status = requests.get(URL, headers=headers)\n",
    "    return status\n",
    "\n",
    "\n",
    "code = \"10499932\"\n",
    "status = get_request(code)"
   ]
  },
  {
   "cell_type": "code",
   "execution_count": 10,
   "id": "a6c90f45-f908-44cf-8a92-10168d77be76",
   "metadata": {},
   "outputs": [],
   "source": [
    "code = 10499931\n",
    "status_list = []\n",
    "for i in range(10):\n",
    "    code += 1\n",
    "    status_list.append(get_request(code))"
   ]
  },
  {
   "cell_type": "code",
   "execution_count": 18,
   "id": "eace70c6-1eda-4989-9651-134162710409",
   "metadata": {},
   "outputs": [
    {
     "name": "stdout",
     "output_type": "stream",
     "text": [
      "{'accounts': {'accounting_reference_date': {'day': '31', 'month': '12'},\n",
      "              'last_accounts': {'made_up_to': '2021-12-31',\n",
      "                                'period_end_on': '2021-12-31',\n",
      "                                'period_start_on': '2021-01-01',\n",
      "                                'type': 'total-exemption-full'},\n",
      "              'next_accounts': {'due_on': '2023-09-30',\n",
      "                                'overdue': False,\n",
      "                                'period_end_on': '2022-12-31',\n",
      "                                'period_start_on': '2022-01-01'},\n",
      "              'next_due': '2023-09-30',\n",
      "              'next_made_up_to': '2022-12-31',\n",
      "              'overdue': False},\n",
      " 'can_file': True,\n",
      " 'company_name': 'YOUNG FOODIES LIMITED',\n",
      " 'company_number': '10499932',\n",
      " 'company_status': 'active',\n",
      " 'confirmation_statement': {'last_made_up_to': '2022-09-22',\n",
      "                            'next_due': '2023-10-06',\n",
      "                            'next_made_up_to': '2023-09-22',\n",
      "                            'overdue': False},\n",
      " 'date_of_creation': '2016-11-28',\n",
      " 'etag': '4f6d6e2a8a801eda687e4eba0b6420e0f279a856',\n",
      " 'has_charges': False,\n",
      " 'has_insolvency_history': False,\n",
      " 'has_super_secure_pscs': False,\n",
      " 'jurisdiction': 'england-wales',\n",
      " 'links': {'filing_history': '/company/10499932/filing-history',\n",
      "           'officers': '/company/10499932/officers',\n",
      "           'persons_with_significant_control': '/company/10499932/persons-with-significant-control',\n",
      "           'self': '/company/10499932'},\n",
      " 'previous_company_names': [{'ceased_on': '2017-02-28',\n",
      "                             'effective_from': '2016-11-28',\n",
      "                             'name': 'HOUSE FOOD LIMITED'}],\n",
      " 'registered_office_address': {'address_line_1': 'Room 2.14 New Covent Garden '\n",
      "                                                 'Market',\n",
      "                               'country': 'England',\n",
      "                               'locality': 'London',\n",
      "                               'postal_code': 'SW8 5EL'},\n",
      " 'registered_office_is_in_dispute': False,\n",
      " 'sic_codes': ['70229'],\n",
      " 'type': 'ltd',\n",
      " 'undeliverable_registered_office_address': False}\n"
     ]
    },
    {
     "data": {
      "text/plain": [
       "'accounts.accounting_reference_date'"
      ]
     },
     "execution_count": 18,
     "metadata": {},
     "output_type": "execute_result"
    }
   ],
   "source": [
    "\n",
    "\n",
    "for status in status_list:\n",
    "    pprint(status.json())\n",
    "    our_test_json = status.json()\n",
    "    break\n",
    "    \n",
    "\"accounts.accounting_reference_date\""
   ]
  },
  {
   "cell_type": "markdown",
   "id": "96df4383-b79b-40a8-a12a-e87ab43a1dbc",
   "metadata": {},
   "source": [
    "# Transform"
   ]
  },
  {
   "cell_type": "code",
   "execution_count": 12,
   "id": "c9b6b406-01e8-48e4-abb5-1451b9f467fa",
   "metadata": {},
   "outputs": [
    {
     "name": "stdout",
     "output_type": "stream",
     "text": [
      "['etag',\n",
      " 'links',\n",
      " 'company_number',\n",
      " 'confirmation_statement',\n",
      " 'company_name',\n",
      " 'sic_codes',\n",
      " 'previous_company_names',\n",
      " 'undeliverable_registered_office_address',\n",
      " 'accounts',\n",
      " 'has_charges',\n",
      " 'has_insolvency_history',\n",
      " 'company_status',\n",
      " 'jurisdiction',\n",
      " 'type',\n",
      " 'date_of_creation',\n",
      " 'registered_office_address',\n",
      " 'registered_office_is_in_dispute',\n",
      " 'has_super_secure_pscs',\n",
      " 'can_file']\n"
     ]
    }
   ],
   "source": [
    "pprint(list(our_test_json.keys()))"
   ]
  },
  {
   "cell_type": "code",
   "execution_count": 13,
   "id": "0bfd5838-3b8d-4129-bd7a-5bba7c6de226",
   "metadata": {},
   "outputs": [
    {
     "name": "stdout",
     "output_type": "stream",
     "text": [
      "etag\n",
      "links\n",
      "company_number\n",
      "confirmation_statement\n",
      "company_name\n",
      "sic_codes\n",
      "previous_company_names\n",
      "undeliverable_registered_office_address\n",
      "accounts\n",
      "has_charges\n",
      "has_insolvency_history\n",
      "company_status\n",
      "jurisdiction\n",
      "type\n",
      "date_of_creation\n",
      "registered_office_address\n",
      "registered_office_is_in_dispute\n",
      "has_super_secure_pscs\n",
      "can_file\n",
      "\n",
      "\n",
      "\n",
      "4f6d6e2a8a801eda687e4eba0b6420e0f279a856\n",
      "{'persons_with_significant_control': '/company/10499932/persons-with-significant-control', 'officers': '/company/10499932/officers', 'filing_history': '/company/10499932/filing-history', 'self': '/company/10499932'}\n",
      "10499932\n",
      "{'next_made_up_to': '2023-09-22', 'next_due': '2023-10-06', 'overdue': False, 'last_made_up_to': '2022-09-22'}\n",
      "YOUNG FOODIES LIMITED\n",
      "['70229']\n",
      "[{'name': 'HOUSE FOOD LIMITED', 'effective_from': '2016-11-28', 'ceased_on': '2017-02-28'}]\n",
      "False\n",
      "{'last_accounts': {'made_up_to': '2021-12-31', 'type': 'total-exemption-full', 'period_end_on': '2021-12-31', 'period_start_on': '2021-01-01'}, 'next_accounts': {'period_end_on': '2022-12-31', 'period_start_on': '2022-01-01', 'due_on': '2023-09-30', 'overdue': False}, 'overdue': False, 'next_due': '2023-09-30', 'next_made_up_to': '2022-12-31', 'accounting_reference_date': {'month': '12', 'day': '31'}}\n",
      "False\n",
      "False\n",
      "active\n",
      "england-wales\n",
      "ltd\n",
      "2016-11-28\n",
      "{'locality': 'London', 'country': 'England', 'address_line_1': 'Room 2.14 New Covent Garden Market', 'postal_code': 'SW8 5EL'}\n",
      "False\n",
      "False\n",
      "True\n",
      "\n",
      "\n",
      "\n",
      "etag\n",
      "\n",
      "\n",
      "links\n",
      "['persons_with_significant_control', 'officers', 'filing_history', 'self']\n",
      "\n",
      "\n",
      "company_number\n",
      "\n",
      "\n",
      "confirmation_statement\n",
      "['next_made_up_to', 'next_due', 'overdue', 'last_made_up_to']\n",
      "\n",
      "\n",
      "company_name\n",
      "\n",
      "\n",
      "sic_codes\n",
      "\n",
      "\n",
      "previous_company_names\n",
      "\n",
      "\n",
      "undeliverable_registered_office_address\n",
      "\n",
      "\n",
      "accounts\n",
      "['last_accounts', 'next_accounts', 'overdue', 'next_due', 'next_made_up_to', 'accounting_reference_date']\n",
      "\n",
      "\n",
      "has_charges\n",
      "\n",
      "\n",
      "has_insolvency_history\n",
      "\n",
      "\n",
      "company_status\n",
      "\n",
      "\n",
      "jurisdiction\n",
      "\n",
      "\n",
      "type\n",
      "\n",
      "\n",
      "date_of_creation\n",
      "\n",
      "\n",
      "registered_office_address\n",
      "['locality', 'country', 'address_line_1', 'postal_code']\n",
      "\n",
      "\n",
      "registered_office_is_in_dispute\n",
      "\n",
      "\n",
      "has_super_secure_pscs\n",
      "\n",
      "\n",
      "can_file\n",
      "\n",
      "\n"
     ]
    }
   ],
   "source": [
    "for k in our_test_json.keys():\n",
    "    print(k)\n",
    "    \n",
    "print(\"\\n\\n\")\n",
    "\n",
    "for v in our_test_json.values():\n",
    "    print(v)\n",
    "    \n",
    "print(\"\\n\\n\")\n",
    "\n",
    "for k, v in our_test_json.items():\n",
    "    print(k)\n",
    "    if type(v) is dict:\n",
    "        print(list(v.keys()))\n",
    "    print(\"\\n\")"
   ]
  },
  {
   "cell_type": "code",
   "execution_count": 14,
   "id": "2d965730-ddda-4d04-a1cb-3828ce306128",
   "metadata": {},
   "outputs": [],
   "source": [
    "our_mapping_config = [\n",
    "    {\"index\": 1, \"colName\": \"id\", \"type\": \"int\", \"alias\": \"None\", \"map_type\": \"None\"},\n",
    "    {\"index\": 2, \"colName\": \"idn\", \"type\": \"str\", \"alias\": \"None\", \"map_type\": \"None\"},\n",
    "    {\"index\": 3, \"colName\": \"location.id\", \"type\": \"int\", \"alias\": \"None\", \"map_type\": \"None\"},\n",
    "    {\"index\": 4, \"colName\": \"location.name\", \"type\": \"str\", \"alias\": \"None\", \"map_type\": \"None\"}\n",
    "]"
   ]
  },
  {
   "cell_type": "code",
   "execution_count": 15,
   "id": "0e8461c8-f346-481b-9dd1-8d0df18a5297",
   "metadata": {},
   "outputs": [
    {
     "data": {
      "text/plain": [
       "'INSERT INTO table_name VALUES(id, idn, ...)'"
      ]
     },
     "execution_count": 15,
     "metadata": {},
     "output_type": "execute_result"
    }
   ],
   "source": [
    "\"\"\"INSERT INTO table_name VALUES(id, idn, ...)\"\"\" # for SQL based DBs databases"
   ]
  },
  {
   "cell_type": "code",
   "execution_count": 16,
   "id": "6e63f7a9-fdb7-4851-9445-c20a29ab0ad5",
   "metadata": {},
   "outputs": [
    {
     "data": {
      "text/plain": [
       "{'location': {'id': 3672652, 'name': 'gsgsuygd'}, 'id': 267276, 'idn': 356252}"
      ]
     },
     "execution_count": 16,
     "metadata": {},
     "output_type": "execute_result"
    }
   ],
   "source": [
    "{\"location\": {\"id\": 3672652,\n",
    "             \"name\": \"gsgsuygd\"},\n",
    "\"id\": 267276,\n",
    "\"idn\": 356252}"
   ]
  },
  {
   "cell_type": "code",
   "execution_count": 17,
   "id": "bb266b7c-ea0f-4fbc-a646-055cace9871b",
   "metadata": {},
   "outputs": [
    {
     "data": {
      "text/plain": [
       "{'location': [5625453, 25726536, 235657]}"
      ]
     },
     "execution_count": 17,
     "metadata": {},
     "output_type": "execute_result"
    }
   ],
   "source": [
    "# for dictionaries \n",
    "\"location.id\"\n",
    "{\"location\": [5625453, 25726536, 235657]}\n",
    "\n",
    "# Pandas (dataframing tool used for datamodelling)\n",
    "# PySpark (dataframing tool used for datamodelling integrated with SQL in Cloud based/distributed systems)"
   ]
  },
  {
   "cell_type": "markdown",
   "id": "a1779199-cbd2-4771-803e-89d2dc285bc1",
   "metadata": {},
   "source": [
    "# Load"
   ]
  },
  {
   "cell_type": "code",
   "execution_count": null,
   "id": "edd5e802-085b-4cea-8821-c39be1100407",
   "metadata": {},
   "outputs": [],
   "source": []
  },
  {
   "cell_type": "code",
   "execution_count": null,
   "id": "0647a672-2afb-4e7c-a86e-921b9002839d",
   "metadata": {},
   "outputs": [],
   "source": []
  },
  {
   "cell_type": "code",
   "execution_count": null,
   "id": "a748048b-4b17-4cf4-a242-1c17be1dc825",
   "metadata": {},
   "outputs": [],
   "source": []
  }
 ],
 "metadata": {
  "kernelspec": {
   "display_name": "Python 3 (ipykernel)",
   "language": "python",
   "name": "python3"
  },
  "language_info": {
   "codemirror_mode": {
    "name": "ipython",
    "version": 3
   },
   "file_extension": ".py",
   "mimetype": "text/x-python",
   "name": "python",
   "nbconvert_exporter": "python",
   "pygments_lexer": "ipython3",
   "version": "3.10.6"
  }
 },
 "nbformat": 4,
 "nbformat_minor": 5
}
